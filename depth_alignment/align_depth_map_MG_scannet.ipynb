{
 "cells": [
  {
   "cell_type": "markdown",
   "metadata": {},
   "source": [
    "# Align resulting depth map of Marigold with the COLMAP points"
   ]
  },
  {
   "cell_type": "code",
   "execution_count": 59,
   "metadata": {},
   "outputs": [],
   "source": [
    "# Imports\n",
    "import os\n",
    "import numpy as np\n",
    "import torch\n",
    "from scipy.interpolate import RegularGridInterpolator\n",
    "import matplotlib\n",
    "import matplotlib.pyplot as plt\n",
    "import cv2\n",
    "from PIL import Image\n",
    "\n",
    "# Constants\n",
    "DATA_DIR = 'scannet/scene0710_00'\n",
    "MG_TRAIN_DIR = os.path.join(DATA_DIR, 'train/depth_MG')\n",
    "MG_TRAIN_DIR_OUT = os.path.join(DATA_DIR, 'train/depth_MG_aligned')\n",
    "MG_TEST_DIR = os.path.join(DATA_DIR, 'test/depth_MG')\n",
    "COLORED_DEPTH_OUT = os.path.join(DATA_DIR, 'train/depth_MG_aligned_colored')\n",
    "COLMAP_DIR = os.path.join(DATA_DIR, 'colmap')\n",
    "COLMAP_TRAIN_DIR = os.path.join(COLMAP_DIR, 'sparse_train/0')\n",
    "COLMAP_ALL_DIR = os.path.join(COLMAP_DIR, 'sparse/0')\n",
    "POINT_CLOUDS_TRAIN_OUT = os.path.join(DATA_DIR, 'train/point_clouds_MG_aligned')\n",
    "BARBARA_POINT_CLOUDS_TRAIN_OUT = os.path.join(DATA_DIR, 'train/barbara_point_clouds')\n",
    "COLMAP_POINTS_TRAIN_OUT = os.path.join(DATA_DIR, 'train/colmap_point_cloud')\n",
    "MASK_PATH = os.path.join(DATA_DIR, 'eval_mask.pth')\n",
    "SENSOR_DEPTH_DIR = os.path.join(DATA_DIR, 'train/target_depth')\n",
    "SENSOR_DEPTH_SCALED_DIR = os.path.join(DATA_DIR, 'train/depth')\n",
    "SENSOR_POINT_CLOUD_OUT = os.path.join(DATA_DIR, 'train/sensor_point_cloud')"
   ]
  },
  {
   "cell_type": "code",
   "execution_count": 2,
   "metadata": {},
   "outputs": [],
   "source": [
    "# Create directories if needed\n",
    "if not os.path.exists(MG_TRAIN_DIR_OUT):\n",
    "    os.makedirs(MG_TRAIN_DIR_OUT)\n",
    "if not os.path.exists(COLORED_DEPTH_OUT):\n",
    "    os.makedirs(COLORED_DEPTH_OUT)\n",
    "if not os.path.exists(POINT_CLOUDS_TRAIN_OUT):\n",
    "    os.makedirs(POINT_CLOUDS_TRAIN_OUT)\n",
    "if not os.path.exists(BARBARA_POINT_CLOUDS_TRAIN_OUT):\n",
    "    os.makedirs(BARBARA_POINT_CLOUDS_TRAIN_OUT)\n",
    "if not os.path.exists(COLMAP_POINTS_TRAIN_OUT):\n",
    "    os.makedirs(COLMAP_POINTS_TRAIN_OUT)\n",
    "if not os.path.exists(SENSOR_POINT_CLOUD_OUT):\n",
    "    os.makedirs(SENSOR_POINT_CLOUD_OUT)"
   ]
  },
  {
   "cell_type": "code",
   "execution_count": 3,
   "metadata": {},
   "outputs": [],
   "source": [
    "def get_colmap_camera_matrix(colmap_cameras_path):\n",
    "    with open(colmap_cameras_path, 'r') as f:\n",
    "        lines = f.readlines()\n",
    "        lines = [line.strip() for line in lines if not line.startswith('#')]    # Skip all lines that begin with # (comments)\n",
    "        # Extract image size\n",
    "        # 1 SIMPLE_PINHOLE 624 468 600.941 312 234\n",
    "        image_size = tuple(map(int, lines[0].split(' ')[2:4]))\n",
    "        # Extract the camera parameters\n",
    "        camera_params = lines[0].split(' ')[-3:]\n",
    "        # Extract the focal length and principal point\n",
    "        f, cx, cy = map(float, camera_params)\n",
    "        # Construct the camera matrix\n",
    "        K = np.array([[f, 0, cx], [0, f, cy], [0, 0, 1]])\n",
    "    return image_size, K\n",
    "\n",
    "def get_colmap_dict_points(colmap_points_path):\n",
    "    colmap_points_dict = {}\n",
    "    with open(colmap_points_path, 'r') as f:\n",
    "        lines = f.readlines()\n",
    "        lines = [line.strip() for line in lines if not line.startswith('#')]    # Skip all lines that begin with # (comments)\n",
    "        for line in lines:\n",
    "            line = line.strip().split()\n",
    "            # 3D point list with one line of data per point:\n",
    "            # POINT3D_ID, X, Y, Z, R, G, B, ERROR, TRACK[] as (IMAGE_ID, POINT2D_IDX)\n",
    "            point_id = int(line[0])\n",
    "            x = float(line[1])\n",
    "            y = float(line[2])\n",
    "            z = float(line[3])\n",
    "            r = int(line[4])\n",
    "            g = int(line[5])\n",
    "            b = int(line[6])\n",
    "            error = float(line[7])\n",
    "            track = line[8:]\n",
    "            for i in range(8, len(line), 2):\n",
    "                image_id = int(line[i])\n",
    "                point2d_idx = int(line[i + 1])\n",
    "                track.append((image_id, point2d_idx))\n",
    "            colmap_points_dict[point_id] = (x, y, z, r, g, b, error, track)\n",
    "    return colmap_points_dict\n",
    "\n",
    "def get_colmap_points(colmap_images_path, image_id):\n",
    "    # Read the images.txt file which has the following format:\n",
    "    #   IMAGE_ID, QW, QX, QY, QZ, TX, TY, TZ, CAMERA_ID, NAME\n",
    "    #   POINTS2D[] as (X, Y, POINT3D_ID)\n",
    "    with open(colmap_images_path) as f:\n",
    "        lines = f.readlines()\n",
    "        lines = [line.strip() for line in lines if not line.startswith('#')]    # Skip all lines that begin with # (comments)\n",
    "        # Find the line corresponding to the image_id\n",
    "        points_2d = []\n",
    "        points_3d_ids = []\n",
    "        q = None\n",
    "        t = None\n",
    "        for idx, line in enumerate(lines):\n",
    "            if str(line).endswith(str(image_id) + '.jpg'):\n",
    "                # Read the camera transformation\n",
    "                q = list(map(float, lines[idx].split(' ')[1:5]))\n",
    "                t = list(map(float, lines[idx].split(' ')[5:8]))\n",
    "                # lines[idx+1] contains the POINTS2D[] line\n",
    "                line_points = lines[idx+1].split(' ')\n",
    "                # Read three elements at a time\n",
    "                for i in range(0, len(line_points), 3):\n",
    "                    x, y, point_3d_id = line_points[i:i+3]\n",
    "                    if point_3d_id != '-1':\n",
    "                        points_2d.append((float(x), float(y)))\n",
    "                        points_3d_ids.append(int(point_3d_id))\n",
    "\n",
    "    return q, t, points_2d, points_3d_ids"
   ]
  },
  {
   "cell_type": "code",
   "execution_count": 4,
   "metadata": {},
   "outputs": [],
   "source": [
    "import numpy as np\n",
    "\n",
    "def quaternion_to_rotation_matrix(q):\n",
    "    \"\"\"\n",
    "    Convert a quaternion into a 3x3 rotation matrix.\n",
    "    \"\"\"\n",
    "    qw, qx, qy, qz = q\n",
    "    R = np.array([\n",
    "        [1 - 2*qy**2 - 2*qz**2, 2*qx*qy - 2*qz*qw, 2*qx*qz + 2*qy*qw],\n",
    "        [2*qx*qy + 2*qz*qw, 1 - 2*qx**2 - 2*qz**2, 2*qy*qz - 2*qx*qw],\n",
    "        [2*qx*qz - 2*qy*qw, 2*qy*qz + 2*qx*qw, 1 - 2*qx**2 - 2*qy**2]\n",
    "    ])\n",
    "    return R\n",
    "\n",
    "def rotation_traslation_to_matrix(R, t):\n",
    "    \"\"\"\n",
    "    Convert a rotation matrix and a translation vector into a 4x4 transformation matrix.\n",
    "    \"\"\"\n",
    "    Tr = np.eye(4)\n",
    "    Tr[:3, :3] = R\n",
    "    Tr[:3, 3] = t\n",
    "    return Tr\n",
    "\n",
    "def transform_points(points_3d, Tr):\n",
    "    \"\"\"\n",
    "    Transform 3D points from world coordinates to camera coordinates.\n",
    "    \n",
    "    Parameters:\n",
    "    points_3d : ndarray of shape (n, 3)\n",
    "        The 3D points in world coordinates.\n",
    "    T : ndarray of shape (4, 4)\n",
    "        The transformation matrix from world to camera coordinates.\n",
    "    Returns:\n",
    "    points_3d_transformed : ndarray of shape (n, 3)\n",
    "        The transformed 3D points in camera coordinates.\n",
    "    \"\"\"\n",
    "    # Add a column of ones to the points_3d\n",
    "    points_3d_homogeneous = np.hstack([points_3d, np.ones((points_3d.shape[0], 1))])\n",
    "    # Transform the points\n",
    "    points_3d_transformed = (Tr @ points_3d_homogeneous.T).T[:, :3]\n",
    "    return points_3d_transformed\n",
    "\n",
    "def compute_depth(points_3d_transformed):\n",
    "    \"\"\"\n",
    "    Compute the depth values from the transformed 3D points.\n",
    "    \n",
    "    Parameters:\n",
    "    points_3d_transformed : ndarray of shape (n, 3)\n",
    "        The transformed 3D points in camera coordinates.\n",
    "    \n",
    "    Returns:\n",
    "    depths : ndarray of shape (n,)\n",
    "        The depth values (z-coordinates) of the transformed points.\n",
    "    \"\"\"\n",
    "    return points_3d_transformed[:, 2]"
   ]
  },
  {
   "cell_type": "code",
   "execution_count": 5,
   "metadata": {},
   "outputs": [],
   "source": [
    "def project_points(K, points_3d):\n",
    "    \"\"\"\n",
    "    Project 3D points onto the image plane using the intrinsic matrix K.\n",
    "    \n",
    "    Parameters:\n",
    "    K : ndarray of shape (3, 3)\n",
    "        The intrinsic matrix.\n",
    "    points_3d : ndarray of shape (n, 3)\n",
    "        The 3D points in camera coordinates.\n",
    "    \n",
    "    Returns:\n",
    "    points_2d : ndarray of shape (n, 2)\n",
    "        The projected 2D points on the image plane.\n",
    "    depths : ndarray of shape (n,)\n",
    "        The depth values (z-coordinates) of the transformed points.\n",
    "    \"\"\"\n",
    "    # Convert 3D points to homogeneous coordinates\n",
    "    # points_3d_h = np.hstack([points_3d, np.ones((points_3d.shape[0], 1))])\n",
    "    \n",
    "    # Project to 2D (homogeneous coordinates)\n",
    "    points_2d_h = (K @ points_3d.T).T\n",
    "    \n",
    "    # Convert to non-homogeneous coordinates\n",
    "    points_2d = points_2d_h[:, :2] / points_2d_h[:, 2:]\n",
    "    depths = points_3d[:, 2]  # Extract depth values (z-coordinates)\n",
    "    \n",
    "    return points_2d, depths\n",
    "\n",
    "def filter_points_in_image(points_2d, depths, image_width, image_height):\n",
    "    \"\"\"\n",
    "    Filter points to determine which ones lie within the camera plane.\n",
    "    \n",
    "    Parameters:\n",
    "    points_2d : ndarray of shape (n, 2)\n",
    "        The projected 2D points on the image plane.\n",
    "    depths : ndarray of shape (n,)\n",
    "        The depth values of the points.\n",
    "    image_width : int\n",
    "        The width of the image.\n",
    "    image_height : int\n",
    "        The height of the image.\n",
    "    \n",
    "    Returns:\n",
    "    mask : ndarray of shape (n,)\n",
    "        A boolean array indicating which points are within the image boundaries and in front of the camera.\n",
    "    \"\"\"\n",
    "    mask = (\n",
    "        (points_2d[:, 0] >= 0) & (points_2d[:, 0] < image_width) &  # x coordinates within image width\n",
    "        (points_2d[:, 1] >= 0) & (points_2d[:, 1] < image_height) &  # y coordinates within image height\n",
    "        (depths > 0)  # points in front of the camera\n",
    "    )\n",
    "    return mask\n"
   ]
  },
  {
   "cell_type": "code",
   "execution_count": 6,
   "metadata": {},
   "outputs": [],
   "source": [
    "def interpolate_depth(depth_map, points_2d):\n",
    "    # Define the grid coordinates\n",
    "    y = np.arange(depth_map.shape[0])\n",
    "    x = np.arange(depth_map.shape[1])\n",
    "\n",
    "    # Create the interpolator object\n",
    "    interpolator = RegularGridInterpolator((y, x), depth_map)\n",
    "\n",
    "    # Interpolate the depth values at the 2D points\n",
    "    interpolated_depths = interpolator(points_2d)\n",
    "\n",
    "    return interpolated_depths\n",
    "\n",
    "def align_depth_map_with_3d_points(depth_map, points_2d, ground_truth_depths, points_error):\n",
    "    # Interpolate the depth values at the 2D points\n",
    "    depths = interpolate_depth(depth_map, points_2d)\n",
    "    # print(f'MG_PREDICTION: {depths}')\n",
    "    # print(f'COLMAP_GT: {ground_truth_depths}')\n",
    "    \n",
    "    print(f'Error before: {np.sqrt(np.mean((depths - ground_truth_depths)**2))}')\n",
    "\n",
    "    # Reject outliers\n",
    "    # inds1 = np.argsort(depths)\n",
    "    # inds2 = np.argsort(ground_truth_depths)\n",
    "\n",
    "    # mask = (np.abs(inds1 - inds2) < (depths.shape[0] // 4))  & (depths >= 0.1) & (depths <= 0.9)\n",
    "    # ground_truth_depths = ground_truth_depths[mask]\n",
    "    # points_error = points_error[mask]\n",
    "    # depths = depths[mask]\n",
    "\n",
    "    # Calculate the square root of the weights (use inverse error as weights and consider the relative error per point)\n",
    "    #sqrt_weights = np.sqrt(1.0 / ((points_error ** 2))) # Note using the squared error (error ** 4 here) gives worse results\n",
    "    if points_error == None:\n",
    "        sqrt_weights = np.sqrt(1.0 / (ground_truth_depths ** 2))\n",
    "    else:\n",
    "        sqrt_weights = np.sqrt(1.0 / ((ground_truth_depths ** 2) * (points_error ** 4)))\n",
    "    \n",
    "    # Set up the weighted linear system: sqrt(W) * (A @ [a, b]) = sqrt(W) * depth_ground_truth_valid\n",
    "    A = torch.tensor(np.vstack([depths, np.ones_like(depths)]).T, dtype=torch.float32)\n",
    "    b = torch.tensor(ground_truth_depths, dtype=torch.float32)\n",
    "    W = torch.tensor(np.diag(sqrt_weights), dtype=torch.float32)\n",
    "\n",
    "    # Solve for the scale (a) and shift (b) parameters using the weighted system\n",
    "    params = torch.linalg.inv(A.T @ W @ A) @ A.T @ W @ b\n",
    "    \n",
    "    # Extract scale and shift\n",
    "    s, t = params\n",
    "    s = s.numpy()\n",
    "    t = t.numpy()\n",
    "\n",
    "    # Compute the error\n",
    "    error = np.sqrt(np.mean((s * depths + t - ground_truth_depths)**2))\n",
    "    print(f'Error after: {error}')\n",
    "    print(f'Scale : {s}, Shift: {t}')\n",
    "    \n",
    "    return s, t, error"
   ]
  },
  {
   "cell_type": "code",
   "execution_count": 7,
   "metadata": {},
   "outputs": [],
   "source": [
    "def colorize_depth_maps(depth_map, min_depth, max_depth, cmap=\"Spectral\"):\n",
    "    \"\"\"\n",
    "    Colorize depth maps.\n",
    "    \"\"\"\n",
    "    assert len(depth_map.shape) >= 2, \"Invalid dimension\"\n",
    "\n",
    "    depth = depth_map.copy().squeeze()\n",
    "    # reshape to [ (B,) H, W ]\n",
    "    if depth.ndim < 3:\n",
    "        depth = depth[np.newaxis, :, :]\n",
    "\n",
    "    # colorize\n",
    "    cm = matplotlib.colormaps[cmap]\n",
    "    depth = ((depth - min_depth) / (max_depth - min_depth)).clip(0, 1)\n",
    "    img_colored_np = cm(depth, bytes=False)[:, :, :, 0:3]  # value from 0 to 1\n",
    "    img_colored_np = np.rollaxis(img_colored_np, 3, 1)\n",
    "\n",
    "    return img_colored_np\n",
    "\n",
    "def chw2hwc(chw):\n",
    "    assert 3 == len(chw.shape)\n",
    "    if isinstance(chw, np.ndarray):\n",
    "        hwc = np.moveaxis(chw, 0, -1)\n",
    "    return hwc\n",
    "\n",
    "def get_colorized_depth_map(depth_pred, color_map=\"Spectral\", valid_mask=None):\n",
    "    min_depth = 0\n",
    "    max_depth = 20\n",
    "    depth_colored = colorize_depth_maps(depth_pred, min_depth, max_depth, cmap=color_map).squeeze()  # [3, H, W], value in (0, 1)\n",
    "    depth_colored = (depth_colored * 255).astype(np.uint8)\n",
    "    depth_colored_hwc = chw2hwc(depth_colored)\n",
    "    depth_colored_img = Image.fromarray(depth_colored_hwc)\n",
    "    return depth_colored_img"
   ]
  },
  {
   "cell_type": "code",
   "execution_count": 51,
   "metadata": {},
   "outputs": [],
   "source": [
    "# Save point cloud to obj file\n",
    "def save_point_cloud_to_obj(points, filename, colors=None):\n",
    "    with open(filename  + '.obj', 'w') as f:\n",
    "        for i in range(points.shape[0]):\n",
    "            # Write the vertices with colors\n",
    "            point = points[i, :]\n",
    "            if colors is not None:\n",
    "                color = colors[i, :]\n",
    "                f.write('v %f %f %f %f %f %f\\n' % (point[0], point[1], point[2], color[0], color[1], color[2]))\n",
    "            else:\n",
    "                f.write('v %f %f %f\\n' % (point[0], point[1], point[2]))\n",
    "\n",
    "def save_point_cloud(metric_depth_pred, image, K, camera_to_world, out_path, mask=None):\n",
    "    # Prepare colors array\n",
    "    colors = image.reshape(-1, 3)\n",
    "\n",
    "    # Create grid for the image plane\n",
    "    FINAL_WIDTH, FINAL_HEIGHT = image.shape[1], image.shape[0]\n",
    "    x, y = np.meshgrid(np.arange(FINAL_WIDTH), np.arange(FINAL_HEIGHT))\n",
    "\n",
    "    # Normalize coordinates using the intrinsic matrix parameters\n",
    "    focal_length_x = K[0, 0]\n",
    "    focal_length_y = K[1, 1]\n",
    "    c_x = K[0, 2]\n",
    "    c_y = K[1, 2]\n",
    "    x_normalized = (x - c_x) / focal_length_x\n",
    "    y_normalized = (FINAL_HEIGHT - y - c_y) / focal_length_y\n",
    "\n",
    "    # Depth values from resized_pred\n",
    "    z = np.array(metric_depth_pred)\n",
    "    # Calculate 3D points by unprojecting\n",
    "    points = np.stack((np.multiply(x_normalized, z), np.multiply(y_normalized, z), -z), axis=-1).reshape(-1, 3)\n",
    "    # Convert points to homogeneous coordinates\n",
    "    points = np.hstack((points, np.ones((points.shape[0], 1))))\n",
    "    # Convert points from camera coordinates to world coordinates\n",
    "    points = camera_to_world.dot(points.T).T\n",
    "    # Get (x, y, z) coordinates\n",
    "    points = points[:, :3]\n",
    "    if mask is not None:\n",
    "        save_point_cloud_to_obj(points[mask], out_path, colors[mask])\n",
    "    else:\n",
    "        save_point_cloud_to_obj(points, out_path, colors)\n",
    "\n",
    "    return points"
   ]
  },
  {
   "cell_type": "code",
   "execution_count": 52,
   "metadata": {},
   "outputs": [],
   "source": [
    "def convert_depth_completion_scaling_to_m(depth):\n",
    "    # convert from depth completion scaling to meter, that means map range 0 .. 1 to range 0 .. 16,38m\n",
    "    return depth * (2 ** 16 - 1) / 4000.\n",
    "\n",
    "def compute_rmse(prediction, target):\n",
    "    return torch.sqrt((prediction - target).pow(2).mean())\n"
   ]
  },
  {
   "cell_type": "code",
   "execution_count": 53,
   "metadata": {},
   "outputs": [],
   "source": [
    "# Load JSON file\n",
    "import json\n",
    "def load_json(filename):\n",
    "    with open(filename, 'r') as f:\n",
    "        return json.load(f)\n",
    "meta = load_json('scannet/scene0710_00/transforms_train.json')"
   ]
  },
  {
   "cell_type": "code",
   "execution_count": 99,
   "metadata": {},
   "outputs": [
    {
     "data": {
      "text/plain": [
       "'train/depth/458.png'"
      ]
     },
     "execution_count": 99,
     "metadata": {},
     "output_type": "execute_result"
    }
   ],
   "source": [
    "meta['frames'][0]['depth_file_path']"
   ]
  },
  {
   "cell_type": "code",
   "execution_count": 104,
   "metadata": {},
   "outputs": [
    {
     "data": {
      "text/plain": [
       "579.97802734375"
      ]
     },
     "execution_count": 104,
     "metadata": {},
     "output_type": "execute_result"
    }
   ],
   "source": [
    "meta['frames'][0]['fx']"
   ]
  },
  {
   "cell_type": "code",
   "execution_count": 1,
   "metadata": {},
   "outputs": [
    {
     "ename": "NameError",
     "evalue": "name 'torch' is not defined",
     "output_type": "error",
     "traceback": [
      "\u001b[0;31m---------------------------------------------------------------------------\u001b[0m",
      "\u001b[0;31mNameError\u001b[0m                                 Traceback (most recent call last)",
      "Cell \u001b[0;32mIn[1], line 1\u001b[0m\n\u001b[0;32m----> 1\u001b[0m barbara_depths \u001b[38;5;241m=\u001b[39m \u001b[43mtorch\u001b[49m\u001b[38;5;241m.\u001b[39mload(os\u001b[38;5;241m.\u001b[39mpath\u001b[38;5;241m.\u001b[39mjoin(DATA_DIR, \u001b[38;5;124m'\u001b[39m\u001b[38;5;124mdepths.pth\u001b[39m\u001b[38;5;124m'\u001b[39m))\n\u001b[1;32m      2\u001b[0m \u001b[38;5;66;03m# Get camera matrix\u001b[39;00m\n\u001b[1;32m      3\u001b[0m image_size, K \u001b[38;5;241m=\u001b[39m get_colmap_camera_matrix(os\u001b[38;5;241m.\u001b[39mpath\u001b[38;5;241m.\u001b[39mjoin(COLMAP_TRAIN_DIR, \u001b[38;5;124m'\u001b[39m\u001b[38;5;124mcameras.txt\u001b[39m\u001b[38;5;124m'\u001b[39m))\n",
      "\u001b[0;31mNameError\u001b[0m: name 'torch' is not defined"
     ]
    }
   ],
   "source": [
    "barbara_depths = torch.load(os.path.join(DATA_DIR, 'depths.pth'))\n",
    "# Get camera matrix\n",
    "image_size, K = get_colmap_camera_matrix(os.path.join(COLMAP_TRAIN_DIR, 'cameras.txt'))\n",
    "image_width, image_height = image_size\n",
    "# Get dictionary of points\n",
    "points_dict = get_colmap_dict_points(os.path.join(COLMAP_TRAIN_DIR, 'points3D.txt'))\n",
    "errors = []\n",
    "rmse_erros = []\n",
    "aligned_depths = []\n",
    "sensor_depths = []\n",
    "K[0, 0] = meta['frames'][0]['fx']\n",
    "K[1, 1] = meta['frames'][0]['fy']\n",
    "K[0, 2] = meta['frames'][0]['cx']\n",
    "K[1, 2] = meta['frames'][0]['cy']\n",
    "valid_indexes = []\n",
    "\n",
    "# Iterate over the depths in the directory\n",
    "for i, meta_i in enumerate(meta['frames']): #os.listdir(MG_TRAIN_DIR)):\n",
    "    filename = meta_i['file_path']\n",
    "    filename = os.path.basename(filename).split('.')[0] + '.npy'\n",
    "    if not filename.endswith('uncertainty.npy'):\n",
    "        image_id = filename.split('.')[0]\n",
    "        print(f'IMAGE {image_id}:')\n",
    "        # Get relative depth from Marigold\n",
    "        relative_depth = np.load(os.path.join(MG_TRAIN_DIR, filename))\n",
    "        image = np.array(Image.open(os.path.join(DATA_DIR, 'train/rgb', image_id + '.jpg'))) / 255.0\n",
    "        # Invert the transformation matrix to get the camera-to-world matrix\n",
    "        camera_to_world = np.array(meta_i['transform_matrix'])\n",
    "                # Visualzie Barbara's images\n",
    "        barbara_depth = barbara_depths[i, :, :].numpy()\n",
    "        save_point_cloud(barbara_depth, image, K, camera_to_world, os.path.join(BARBARA_POINT_CLOUDS_TRAIN_OUT, image_id))\n",
    "        # Get points from COLMAP for the same image\n",
    "        # LEGACY CODE FOR USING COLMAP POINTS\n",
    "        # colmap_images_path = os.path.join(COLMAP_TRAIN_DIR, 'images.txt')\n",
    "        # q, t, _, points_3d_ids = get_colmap_points(colmap_images_path, image_id)\n",
    "        # points_3d = [points_dict[point_id] for point_id in points_3d_ids]\n",
    "        # # Select the first three elements of the points_3d\n",
    "        # points_3d_xyz = np.array([point[:3] for point in points_3d])\n",
    "        # points_error = np.array([point[6] for point in points_3d])\n",
    "        # # Transform the 3D points into camera coordinates\n",
    "        # Tr = rotation_traslation_to_matrix(quaternion_to_rotation_matrix(q), t)\n",
    "        # print(Tr)\n",
    "        # if points_3d_xyz.shape[0] == 0:\n",
    "        #     print(f'NO POINTS FOR IMAGE {image_id}')\n",
    "        #     continue\n",
    "        # points_3d_transformed = transform_points(np.array(points_3d_xyz)[:, :3], Tr)\n",
    "        # # Sanity check. Project points and get depths\n",
    "        # points_2d, depths = project_points(K, points_3d_transformed)\n",
    "        # # Sanity check. Filter points within the image boundaries\n",
    "        # mask = filter_points_in_image(points_2d, depths, image_width, image_height)\n",
    "        # if mask.any() == False:\n",
    "        #     # This should never happen if the points from COLMAP are correct\n",
    "        #     print(f'WARNING, ALL COLMAP POINTS SHOULD LIE INSIDE THE IMAGE PLANE {image_id}')\n",
    "        #     continue\n",
    "        # Recover metric depth from the colmap points\n",
    "        dense_depth_priors_depth = np.array(Image.open(os.path.join(DATA_DIR, meta_i['depth_file_path'])), dtype=np.float64) / 1000.0\n",
    "        # dense_depth_priors_depth_mask = dense_depth_priors_depth.flatten() > 0\n",
    "        # Get indexes for the pixels with actual depth\n",
    "        points_2d = np.where(dense_depth_priors_depth > 0)\n",
    "        if points_2d[0].shape[0] == 0:\n",
    "            print(f'NO POINTS FOR IMAGE {image_id}')\n",
    "            continue\n",
    "        valid_indexes.append(i)\n",
    "        # Get the depth values using indexes\n",
    "        depths = dense_depth_priors_depth[points_2d]\n",
    "        print('Max barbaras depth:', dense_depth_priors_depth.max())\n",
    "        # Align the depth map with the 3D points\n",
    "        s, t, error = align_depth_map_with_3d_points(relative_depth, points_2d, depths, None)\n",
    "        errors.append(error)\n",
    "        # Modify the depth map using the found scale and shift\n",
    "        aligned_depth = s * relative_depth + t\n",
    "        print(f'MAX DEPTH: {aligned_depth.max()}, MAX DEPTH GT: {depths.max()}')\n",
    "        print(f'MIN DEPTH: {aligned_depth.min()}, MIN DEPTH GT: {depths.min()}')\n",
    "        if aligned_depth.min() < 0:\n",
    "            print(f'NEGATIVE DEPTH HERE: {filename}, ID: {i}')\n",
    "        print()\n",
    "        # Save the aligned depth map\n",
    "        np.save(os.path.join(MG_TRAIN_DIR_OUT, filename), aligned_depth)\n",
    "        # Scale the uncertainty values\n",
    "        # uncertainty_filename = filename.replace('.npy', '_uncertainty.npy')\n",
    "        # uncertainty = np.load(os.path.join(MG_TRAIN_DIR, uncertainty_filename))\n",
    "        # np.save(os.path.join(MG_TRAIN_DIR_OUT, uncertainty_filename), uncertainty * s)\n",
    "        # Plot the depth map\n",
    "        colored_save_path = os.path.join(COLORED_DEPTH_OUT, filename.replace('.npy', '.png'))\n",
    "        if os.path.exists(colored_save_path):\n",
    "            print(f\"Existing file: '{colored_save_path}' will be overwritten\")\n",
    "        depth_colored = get_colorized_depth_map(aligned_depth)\n",
    "        depth_colored.save(colored_save_path)\n",
    "        # Unproject and save point cloud\n",
    "        # print(camera_to_world)\n",
    "        # camera_to_world = np.linalg.inv(Tr)\n",
    "        save_point_cloud(aligned_depth, image, K, camera_to_world, os.path.join(POINT_CLOUDS_TRAIN_OUT, image_id))\n",
    "        print('Max aligned:', aligned_depth.max())\n",
    "        aligned_depths.append(aligned_depth)\n",
    "        # Visualize COLMAP points\n",
    "        # colors = np.zeros_like(points_3d_xyz)\n",
    "        # colors[:, 0] = 1.0\n",
    "        # save_point_cloud_to_obj(points_3d_xyz, os.path.join(COLMAP_POINTS_TRAIN_OUT, image_id), colors)\n",
    "        # Load sensor depth and save it as a pointcloud\n",
    "        sensor_depth = np.array(Image.open(os.path.join(SENSOR_DEPTH_DIR, filename.replace('.npy', '.png'))), dtype=np.float64) / 1000.0\n",
    "        sensor_depth_mask = sensor_depth.flatten() > 0\n",
    "        print('Max sensor:', sensor_depth.max())\n",
    "        save_point_cloud(sensor_depth, image, K, camera_to_world, os.path.join(SENSOR_POINT_CLOUD_OUT, image_id), sensor_depth_mask)\n",
    "        print()\n",
    "        print()"
   ]
  },
  {
   "cell_type": "code",
   "execution_count": 62,
   "metadata": {},
   "outputs": [],
   "source": [
    "def load_ground_truth_depth(basedir, train_filenames, image_size, depth_scaling_factor):\n",
    "    H, W = image_size\n",
    "    gt_depths = []\n",
    "    gt_valid_depths = []\n",
    "    for filename in train_filenames:\n",
    "        filename = filename.replace(\"rgb\", \"target_depth\")\n",
    "        filename = filename.replace(\".jpg\", \".png\")\n",
    "        gt_depth_fname = os.path.join(basedir, filename)\n",
    "        if os.path.exists(gt_depth_fname):\n",
    "            gt_depth = np.array(Image.open(gt_depth_fname), dtype=np.float64)\n",
    "            gt_valid_depth = gt_depth > 0.5\n",
    "            gt_depth = (gt_depth / depth_scaling_factor).astype(np.float32)\n",
    "        else:\n",
    "            gt_depth = np.zeros((H, W))\n",
    "            gt_valid_depth = np.full_like(gt_depth, False)\n",
    "        gt_depths.append(np.expand_dims(gt_depth, -1))\n",
    "        gt_valid_depths.append(gt_valid_depth)\n",
    "    gt_depths = np.stack(gt_depths, 0)\n",
    "    gt_valid_depths = np.stack(gt_valid_depths, 0)\n",
    "    return gt_depths, gt_valid_depths"
   ]
  },
  {
   "cell_type": "code",
   "execution_count": 97,
   "metadata": {},
   "outputs": [],
   "source": [
    "valid_imgs = torch.tensor(valid_indexes)\n",
    "eval_mask = torch.load(MASK_PATH)[valid_imgs, :, :]\n",
    "sensor_depth, _ = load_ground_truth_depth(DATA_DIR, [frame['file_path'] for frame in meta['frames']], (468, 624), 1000)\n",
    "sensor_depth = torch.tensor(sensor_depth, dtype=torch.float32)[valid_imgs, :, :]"
   ]
  },
  {
   "cell_type": "code",
   "execution_count": null,
   "metadata": {},
   "outputs": [],
   "source": [
    "# n = 4688436\n",
    "# fig, axes = plt.subplots(1, 2)\n",
    "# axes[0].hist(torch.sort((x - y).square())[0][int(0.9 * n):], bins=100)\n",
    "# axes[1].hist(torch.sort((z - y).square())[0][int(0.9 * n):], bins=100)"
   ]
  },
  {
   "cell_type": "code",
   "execution_count": null,
   "metadata": {},
   "outputs": [
    {
     "ename": "IndexError",
     "evalue": "boolean index did not match indexed array along dimension 0; dimension is 18 but corresponding boolean dimension is 17",
     "output_type": "error",
     "traceback": [
      "\u001b[0;31m---------------------------------------------------------------------------\u001b[0m",
      "\u001b[0;31mIndexError\u001b[0m                                Traceback (most recent call last)",
      "Cell \u001b[0;32mIn[86], line 2\u001b[0m\n\u001b[1;32m      1\u001b[0m depths \u001b[38;5;241m=\u001b[39m torch\u001b[38;5;241m.\u001b[39mtensor(aligned_depths)\u001b[38;5;241m.\u001b[39mclamp(\u001b[38;5;28mmin\u001b[39m\u001b[38;5;241m=\u001b[39mnear, \u001b[38;5;28mmax\u001b[39m\u001b[38;5;241m=\u001b[39mfar)\n\u001b[0;32m----> 2\u001b[0m x, y \u001b[38;5;241m=\u001b[39m depths[:, :, :][eval_mask], \u001b[43mgt_depths_train\u001b[49m\u001b[38;5;241;43m.\u001b[39;49m\u001b[43msqueeze\u001b[49m\u001b[43m(\u001b[49m\u001b[38;5;241;43m-\u001b[39;49m\u001b[38;5;241;43m1\u001b[39;49m\u001b[43m)\u001b[49m\u001b[43m[\u001b[49m\u001b[43meval_mask\u001b[49m\u001b[43m]\u001b[49m\n\u001b[1;32m      3\u001b[0m z \u001b[38;5;241m=\u001b[39m torch\u001b[38;5;241m.\u001b[39mtensor(barbara_depths)\u001b[38;5;241m.\u001b[39mclamp(\u001b[38;5;28mmin\u001b[39m\u001b[38;5;241m=\u001b[39mnear, \u001b[38;5;28mmax\u001b[39m\u001b[38;5;241m=\u001b[39mfar)[eval_mask]\n",
      "\u001b[0;31mIndexError\u001b[0m: boolean index did not match indexed array along dimension 0; dimension is 18 but corresponding boolean dimension is 17"
     ]
    }
   ],
   "source": [
    "# depths = torch.tensor(aligned_depths).clamp(min=near, max=far)\n",
    "# x, y = depths[:, :, :][eval_mask], gt_depths_train.squeeze(-1)[eval_mask]\n",
    "# z = torch.tensor(barbara_depths).clamp(min=near, max=far)[eval_mask]"
   ]
  },
  {
   "cell_type": "code",
   "execution_count": 98,
   "metadata": {},
   "outputs": [
    {
     "name": "stdout",
     "output_type": "stream",
     "text": [
      "rmse tensor(0.1504)\n",
      "l1 tensor(0.1115)\n"
     ]
    }
   ],
   "source": [
    "# Our errors\n",
    "near = 0.10000000149011612\n",
    "far = 6.8439249992370605\n",
    "depths = torch.tensor(aligned_depths)\n",
    "# depths = torch.tensor(aligned_depths).clamp(min=near, max=far)\n",
    "gt_depths_train = sensor_depth #torch.tensor(sensor_depths, dtype=torch.float32) / 1000.0\n",
    "\n",
    "print('rmse: ', compute_rmse(depths[eval_mask], gt_depths_train.squeeze(-1)[eval_mask]))\n",
    "print('l1: ', torch.abs(depths[eval_mask] - gt_depths_train.squeeze(-1)[eval_mask]).mean())"
   ]
  },
  {
   "cell_type": "code",
   "execution_count": 102,
   "metadata": {},
   "outputs": [
    {
     "name": "stderr",
     "output_type": "stream",
     "text": [
      "/var/folders/mz/h5vgbzmx1zn2p9ykvcgn5nmr0000gn/T/ipykernel_8903/276558073.py:4: UserWarning: To copy construct from a tensor, it is recommended to use sourceTensor.clone().detach() or sourceTensor.clone().detach().requires_grad_(True), rather than torch.tensor(sourceTensor).\n",
      "  b_depths = torch.tensor(barbara_depths[valid_imgs, :, :]).clamp(min=near, max=far)\n"
     ]
    },
    {
     "name": "stdout",
     "output_type": "stream",
     "text": [
      "rmse tensor(0.1667)\n",
      "l1 tensor(0.1179)\n"
     ]
    }
   ],
   "source": [
    "# Original Dense Depth Priors errors\n",
    "near = 0.10000000149011612\n",
    "far = 6.8439249992370605\n",
    "b_depths = torch.tensor(barbara_depths[valid_imgs, :, :]).clamp(min=near, max=far)\n",
    "gt_depths_train = sensor_depth #torch.tensor(sensor_depths, dtype=torch.float32) / 1000.0\n",
    "\n",
    "print('rmse', compute_rmse(b_depths[eval_mask], gt_depths_train.squeeze(-1)[eval_mask]))\n",
    "print('l1', torch.abs(b_depths[eval_mask] - gt_depths_train.squeeze(-1)[eval_mask]).mean())"
   ]
  },
  {
   "cell_type": "code",
   "execution_count": null,
   "metadata": {},
   "outputs": [],
   "source": [
    "MG = np.array(\"\"\"0.92311835 0.81285122 0.99780128 0.9978027  0.99910212 0.87367186\n",
    " 0.96037075 0.74939478 0.87712003 0.87739623 0.83519974 0.9448635\n",
    " 0.80720212 0.86259123 0.26592    0.98991484 0.47514004 0.39912075\n",
    " 0.39864154 0.39772929 0.39007082 0.38543097 0.36674451 0.36643473\n",
    " 0.34636011 0.37731688 0.39430885 0.36558432 0.2851687  0.25192033\n",
    " 0.37966008 0.38781502 0.36932784 0.3493744  0.34800433 0.30751557\n",
    " 0.39822312 0.28136278 0.12603639 0.19965066 0.38719475 0.35178993\n",
    " 0.40262796 0.34315901 0.98710698 0.99068907 0.2586416  0.86555818\n",
    " 0.99139911 0.906987   0.3562793  0.34058693 0.23529631 0.36752775\n",
    " 0.35654674 0.32756804 0.10934264 0.18310302 0.08814433 0.04501238\n",
    " 0.39809091 0.40091498 0.3912468  0.3969043  0.99700975 0.2486549\n",
    " 0.3756891  0.38855474 0.23131975 0.38869273 0.25983182 0.39430761\n",
    " 0.16821594 0.34961077 0.12170791 0.10871744 0.38870337 0.40683461\n",
    " 0.99673735 0.40177445 0.40270529 0.40733053 0.99787388 0.40283564\n",
    " 0.26476119 0.7970672  0.40595117 0.26782383 0.26782383 0.40596425\n",
    " 0.40924552 0.23128703 0.25812098 0.3851798  0.40050768 0.38138267\n",
    " 0.23504946 0.24178501 0.27975736 0.36492036 0.25814735 0.25321548\n",
    " 0.48416192 0.25696702 0.27905127 0.2316759  0.27798549 0.3546036\n",
    " 0.25338018 0.26230389 0.32692986 0.25362472 0.2976681  0.33210846\n",
    " 0.33210846 0.38822455 0.27088835 0.32605998 0.32605998 0.27079546\n",
    " 0.40308195 0.23660462 0.17847553 0.39565669 0.39713571 0.24544372\n",
    " 0.23528303 0.24122228 0.58697269 0.2492377  0.43478799 0.26276355\n",
    " 0.40058031 0.99593037 0.42225914 0.25343987 0.25287061 0.24638936\n",
    " 0.39496864 0.40337567 0.27827563 0.24953201 0.26746817 0.26746817\n",
    " 0.24084616 0.26775994 0.37034575 0.24161727 0.23696146 0.91976447\n",
    " 0.23955094 0.5282835  0.23614506 0.26833786 0.38784051 0.25283926\n",
    " 0.4191585  0.4191585  0.4062488  0.4062488  0.20820358 0.19180747\n",
    " 0.21805815 0.27530785 0.98727732 0.34527542 0.28711521 0.24544732\n",
    " 0.34588176 0.27601448 0.22731332 0.11980327 0.43900011 0.43900011\n",
    " 0.37437561 0.3600695  0.17678432 0.9980461  0.38584605 0.38584605\n",
    " 0.59434362 0.32362897 0.24801194 0.31884564 0.17351372 0.34621392\n",
    " 0.16581241 0.3995579  0.55681871 0.24263683 0.28981538 0.27579858\n",
    " 0.25650011 0.99697126 0.4292884  0.35175747 0.81941948 0.99618095\n",
    " 0.289021   0.27031374 0.27562378 0.19607506 0.14861517\"\"\".split()).astype(np.float32)\n",
    "COLMAP_GT = np.array(\"\"\"12.89299293  9.99894561 16.39534264 16.53394655 16.27007179 13.50098929\n",
    " 14.33597913  8.9918477  12.15170648 11.88680214 11.7846614  13.79346493\n",
    " 11.41813503 11.98766747  4.41729762 11.42639676  9.04505326  7.1022251\n",
    "  6.76414634  6.80483276  6.21346587  6.41254842  5.38281322  6.31147781\n",
    "  6.3090856   5.98031445  1.60572111  6.44129408  5.12222978  4.57577858\n",
    "  5.95104475  4.55149534  5.88392971  6.35447925  6.02659455  7.16620559\n",
    "  7.21190153  8.38511982  3.03197212  3.71548237  7.16335855  6.32429107\n",
    "  7.01780523  6.27943446 13.72818637 13.74192357  4.61639412  9.92272557\n",
    " 14.3548502  12.36357797  6.23868807  6.16879137  3.93606492  6.8711296\n",
    "  6.12174508  6.31031394  4.03895164  4.23463491  3.62484877  3.40655827\n",
    "  6.35933429  6.49932814  6.70545586  6.55801165 12.64523848  4.57538944\n",
    "  6.46327914  6.14740424  4.46665784  7.17224327  4.62873328  7.39849703\n",
    "  3.98514879  5.31426617  3.08870187  3.44386604  6.73218632  6.48405699\n",
    " 13.49541332  6.48719636  6.37734377  6.41358156 13.66654849  6.5972455\n",
    "  4.82526601 11.34004798  6.5945944   4.90046084  4.90046084  6.68981065\n",
    "  6.97144582  4.50212074  4.23265102  7.27739126  6.73644953  7.13908442\n",
    "  4.40502492  4.39443064  5.16114377  6.18777321  4.22063088  4.54095223\n",
    " 10.412013    4.58772277  5.20992641  4.77238572  5.18496223  6.6981369\n",
    "  4.9706411   5.19486074  5.69119221  6.09416048  4.72815524  6.34573153\n",
    "  6.34573153  7.28649688  4.869599    6.3094488   6.3094488   5.14870944\n",
    "  6.30706035  4.83162911  3.21514237  6.63942717  6.71533506  4.32005784\n",
    "  4.3484181   4.67261223 10.29867942  4.41722275  6.7423253   4.61817414\n",
    "  6.86598846 10.64102709  7.36924985  4.83942364  4.24895932  4.35119568\n",
    "  6.80909844  6.80629635  5.0617495   4.37134183  5.20018137  5.20018137\n",
    "  4.38874743  5.13773545  6.51423739  4.53886312  4.54740558 13.07734471\n",
    "  4.60573592  9.22480929  4.70012781  4.5995448   5.96959078  4.7806371\n",
    "  6.34426428  6.34426428  6.28244301  6.28244301  4.36918536  4.19159989\n",
    "  4.32106673  4.84005129 13.30137922  6.34365598  5.04173093  4.59743051\n",
    "  5.78384008  4.84138985  4.54707525  3.43884464  7.25909561  7.25909561\n",
    "  6.46697147  6.60679343  4.03031974 15.50287864  7.0488598   7.0488598\n",
    "  9.08359784  6.78316873  4.93176668  5.49041996  3.93854506  5.50916256\n",
    "  3.57162832  7.54554078  9.93792718  4.77257145  5.6979839   4.52667124\n",
    "  4.85322099 14.05682165  6.98070009  5.89276949 11.84911944 11.4253811\n",
    "  4.85138051  4.93331788  5.10382569  4.79031181  3.42358299\"\"\".split()).astype(np.float32)"
   ]
  },
  {
   "cell_type": "code",
   "execution_count": null,
   "metadata": {},
   "outputs": [
    {
     "data": {
      "text/plain": [
       "(203,)"
      ]
     },
     "execution_count": 73,
     "metadata": {},
     "output_type": "execute_result"
    }
   ],
   "source": [
    "MG.shape"
   ]
  },
  {
   "cell_type": "code",
   "execution_count": null,
   "metadata": {},
   "outputs": [
    {
     "data": {
      "text/plain": [
       "(203, 266)"
      ]
     },
     "execution_count": 74,
     "metadata": {},
     "output_type": "execute_result"
    }
   ],
   "source": [
    "MG.shape[0], mask.sum()"
   ]
  },
  {
   "cell_type": "code",
   "execution_count": null,
   "metadata": {},
   "outputs": [
    {
     "data": {
      "text/plain": [
       "[<matplotlib.lines.Line2D at 0x7fe75b42f1f0>]"
      ]
     },
     "execution_count": 75,
     "metadata": {},
     "output_type": "execute_result"
    },
    {
     "data": {
      "image/png": "[encoded data removed]",
      "text/plain": [
       "<Figure size 1200x600 with 2 Axes>"
      ]
     },
     "metadata": {},
     "output_type": "display_data"
    }
   ],
   "source": [
    "\n",
    "\n",
    "inds1 = np.argsort(MG)\n",
    "inds2 = np.argsort(COLMAP_GT)\n",
    "\n",
    "mask = (np.abs(inds1 - inds2) < (MG.shape[0] // 4)) \n",
    "\n",
    "# Plot histogram\n",
    "fig, axes = plt.subplots(1, 2, figsize=(12, 6))\n",
    "axes[0].plot(range(MG[inds1][mask].shape[0]), MG[inds1][mask], c='red')\n",
    "axes[1].plot(range(MG[inds1][mask].shape[0]), COLMAP_GT[inds1][mask], c='blue')\n"
   ]
  },
  {
   "cell_type": "code",
   "execution_count": null,
   "metadata": {},
   "outputs": [
    {
     "data": {
      "text/plain": [
       "(array([ 1.,  0.,  0.,  0.,  0.,  0.,  0.,  0.,  0.,  2.,  1.,  0.,  4.,\n",
       "         2.,  1.,  3.,  2.,  5., 11., 11.,  9., 12.,  5.,  8.,  5.,  1.,\n",
       "         2.,  3.,  2.,  4.,  6., 19.,  9.,  5., 12.,  3.,  5.,  8.,  3.,\n",
       "         1.,  0.,  0.,  0.,  0.,  0.,  1.,  0.,  0.,  0.,  2.,  1.,  1.,\n",
       "         0.,  0.,  0.,  2.,  1.,  0.,  2.,  0.,  1.,  0.,  0.,  0.,  0.,\n",
       "         4.,  0.,  0.,  3.,  1.,  1.,  0.,  1.,  1.,  0.,  1.,  1.,  0.,\n",
       "         1.,  2.,  1.,  3.,  0.,  1.,  0.,  2.,  0.,  0.,  0.,  0.,  0.,\n",
       "         0.,  0.,  1.,  0.,  0.,  0.,  0.,  1.,  2.]),\n",
       " array([ 1.60572112,  1.75500333,  1.90428567,  2.05356789,  2.2028501 ,\n",
       "         2.35213232,  2.50141478,  2.65069699,  2.79997921,  2.94926143,\n",
       "         3.09854364,  3.24782586,  3.39710832,  3.54639053,  3.69567275,\n",
       "         3.84495497,  3.99423718,  4.1435194 ,  4.29280186,  4.44208384,\n",
       "         4.59136629,  4.74064875,  4.88993073,  5.03921318,  5.18849516,\n",
       "         5.33777761,  5.48706007,  5.63634205,  5.7856245 ,  5.93490648,\n",
       "         6.08418894,  6.23347092,  6.38275337,  6.53203583,  6.68131781,\n",
       "         6.83060026,  6.97988224,  7.1291647 ,  7.27844715,  7.42772913,\n",
       "         7.57701159,  7.72629356,  7.87557602,  8.02485847,  8.17414093,\n",
       "         8.32342243,  8.47270489,  8.62198734,  8.7712698 ,  8.92055225,\n",
       "         9.06983376,  9.21911621,  9.36839867,  9.51768112,  9.66696262,\n",
       "         9.81624508,  9.96552753, 10.11480999, 10.26409245, 10.41337395,\n",
       "        10.5626564 , 10.71193886, 10.86122131, 11.01050377, 11.15978527,\n",
       "        11.30906773, 11.45835018, 11.60763264, 11.75691509, 11.90619659,\n",
       "        12.05547905, 12.20476151, 12.35404396, 12.50332642, 12.65260792,\n",
       "        12.80189037, 12.95117283, 13.10045528, 13.24973774, 13.39901924,\n",
       "        13.5483017 , 13.69758415, 13.84686661, 13.99614906, 14.14543056,\n",
       "        14.29471302, 14.44399548, 14.59327793, 14.74255943, 14.89184189,\n",
       "        15.04112434, 15.1904068 , 15.33968925, 15.48897076, 15.63825321,\n",
       "        15.78753567, 15.93681812, 16.08609962, 16.23538208, 16.38466454,\n",
       "        16.53394699]),\n",
       " <BarContainer object of 100 artists>)"
      ]
     },
     "execution_count": 76,
     "metadata": {},
     "output_type": "execute_result"
    },
    {
     "data": {
      "image/png": "[encoded data removed]",
      "text/plain": [
       "<Figure size 640x480 with 1 Axes>"
      ]
     },
     "metadata": {},
     "output_type": "display_data"
    }
   ],
   "source": [
    "plt.hist(COLMAP_GT, bins=100)"
   ]
  },
  {
   "cell_type": "code",
   "execution_count": null,
   "metadata": {},
   "outputs": [],
   "source": []
  }
 ],
 "metadata": {
  "kernelspec": {
   "display_name": "adlr",
   "language": "python",
   "name": "python3"
  },
  "language_info": {
   "codemirror_mode": {
    "name": "ipython",
    "version": 3
   },
   "file_extension": ".py",
   "mimetype": "text/x-python",
   "name": "python",
   "nbconvert_exporter": "python",
   "pygments_lexer": "ipython3",
   "version": "3.1.-1"
  }
 },
 "nbformat": 4,
 "nbformat_minor": 2
}
